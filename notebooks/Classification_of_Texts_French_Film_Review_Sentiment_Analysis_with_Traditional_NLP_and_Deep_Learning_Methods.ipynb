{
  "nbformat": 4,
  "nbformat_minor": 0,
  "metadata": {
    "colab": {
      "provenance": [],
      "toc_visible": true,
      "gpuType": "T4"
    },
    "kernelspec": {
      "name": "python3",
      "display_name": "Python 3"
    },
    "language_info": {
      "name": "python"
    },
    "accelerator": "GPU"
  },
  "cells": [
    {
      "cell_type": "markdown",
      "source": [],
      "metadata": {
        "id": "09nlDAGyAMdr"
      }
    },
    {
      "cell_type": "markdown",
      "source": [
        "#Getting dataset from huggingface"
      ],
      "metadata": {
        "id": "kAoGVs0mAJnH"
      }
    },
    {
      "cell_type": "code",
      "source": [
        " # install datasets\n",
        "!pip install -q datasets"
      ],
      "metadata": {
        "id": "xCBV2ay-BNJv"
      },
      "execution_count": 5,
      "outputs": []
    },
    {
      "cell_type": "markdown",
      "source": [
        "#listing the datasets"
      ],
      "metadata": {
        "id": "fHPDdC_lUCmO"
      }
    },
    {
      "cell_type": "code",
      "source": [
        "# Let's import the library. We typically only need at most two methods:\n",
        "from datasets import list_datasets, load_dataset\n",
        "from pprint import pprint\n",
        "\n",
        "# Currently available datasets\n",
        "datasets = list_datasets()"
      ],
      "metadata": {
        "colab": {
          "base_uri": "https://localhost:8080/"
        },
        "id": "Hr2TxXqtAJ3z",
        "outputId": "d535088a-366e-4492-8300-c410001e9d12"
      },
      "execution_count": 6,
      "outputs": [
        {
          "output_type": "stream",
          "name": "stderr",
          "text": [
            "<ipython-input-6-65f7393e9ef0>:6: FutureWarning: list_datasets is deprecated and will be removed in the next major version of datasets. Use 'huggingface_hub.list_datasets' instead.\n",
            "  datasets = list_datasets()\n",
            "/usr/local/lib/python3.10/dist-packages/huggingface_hub/utils/_token.py:88: UserWarning: \n",
            "The secret `HF_TOKEN` does not exist in your Colab secrets.\n",
            "To authenticate with the Hugging Face Hub, create a token in your settings tab (https://huggingface.co/settings/tokens), set it as secret in your Google Colab and restart your session.\n",
            "You will be able to reuse this secret in all of your notebooks.\n",
            "Please note that authentication is recommended but still optional to access public models or datasets.\n",
            "  warnings.warn(\n"
          ]
        }
      ]
    },
    {
      "cell_type": "markdown",
      "source": [
        "# Loading allocine"
      ],
      "metadata": {
        "id": "vIf0dtlvUFyr"
      }
    },
    {
      "cell_type": "code",
      "source": [
        "# Downloading and loading a dataset\n",
        "dataset = load_dataset('allocine')\n",
        "print(dataset)"
      ],
      "metadata": {
        "colab": {
          "base_uri": "https://localhost:8080/"
        },
        "id": "dcFdLCGxBbau",
        "outputId": "6de6b13a-0611-4899-d2d4-9371b3e4b51b"
      },
      "execution_count": 7,
      "outputs": [
        {
          "output_type": "stream",
          "name": "stdout",
          "text": [
            "DatasetDict({\n",
            "    train: Dataset({\n",
            "        features: ['review', 'label'],\n",
            "        num_rows: 160000\n",
            "    })\n",
            "    validation: Dataset({\n",
            "        features: ['review', 'label'],\n",
            "        num_rows: 20000\n",
            "    })\n",
            "    test: Dataset({\n",
            "        features: ['review', 'label'],\n",
            "        num_rows: 20000\n",
            "    })\n",
            "})\n"
          ]
        }
      ]
    },
    {
      "cell_type": "markdown",
      "source": [
        "# allocine Columns"
      ],
      "metadata": {
        "id": "ZcpRjsUkUK1h"
      }
    },
    {
      "cell_type": "code",
      "source": [
        "# You can inspect the dataset column names and types\n",
        "print(\"Column names:\")\n",
        "pprint(dataset.column_names)"
      ],
      "metadata": {
        "colab": {
          "base_uri": "https://localhost:8080/"
        },
        "id": "DFB0XU4SoZpL",
        "outputId": "e796fb81-25db-4096-ea89-bbbd70e99f44"
      },
      "execution_count": 8,
      "outputs": [
        {
          "output_type": "stream",
          "name": "stdout",
          "text": [
            "Column names:\n",
            "{'test': ['review', 'label'],\n",
            " 'train': ['review', 'label'],\n",
            " 'validation': ['review', 'label']}\n"
          ]
        }
      ]
    },
    {
      "cell_type": "markdown",
      "source": [
        "# covert the hugging face dataset object to pandas pd"
      ],
      "metadata": {
        "id": "xd_t4mwSUPvo"
      }
    },
    {
      "cell_type": "code",
      "source": [
        "train_df = dataset['train'].to_pandas()\n",
        "valid_df = dataset['validation'].to_pandas()\n",
        "test_df = dataset['test'].to_pandas()"
      ],
      "metadata": {
        "id": "ZuIYrS9TBvk-"
      },
      "execution_count": 9,
      "outputs": []
    },
    {
      "cell_type": "markdown",
      "source": [
        "# Check for nulls"
      ],
      "metadata": {
        "id": "_RV6y0lgUZPE"
      }
    },
    {
      "cell_type": "code",
      "source": [
        "train_df.describe()\n",
        "print('checking nulls in train set: ', train_df.isnull().sum())\n",
        "print()\n",
        "print('checking nulls in valid set: ', valid_df.isnull().sum())"
      ],
      "metadata": {
        "colab": {
          "base_uri": "https://localhost:8080/"
        },
        "id": "PnByGfAzmpvC",
        "outputId": "3d6f5514-21d0-46be-aead-a1b72a18bbb7"
      },
      "execution_count": 10,
      "outputs": [
        {
          "output_type": "stream",
          "name": "stdout",
          "text": [
            "checking nulls in train set:  review    0\n",
            "label     0\n",
            "dtype: int64\n",
            "\n",
            "checking nulls in valid set:  review    0\n",
            "label     0\n",
            "dtype: int64\n"
          ]
        }
      ]
    },
    {
      "cell_type": "markdown",
      "source": [
        "# Number of samples in the valid and train sets"
      ],
      "metadata": {
        "id": "sKcoiLCOUcIW"
      }
    },
    {
      "cell_type": "code",
      "source": [
        "# sentiments counts\n",
        "print('train set counts : ', train_df[\"label\"].value_counts())\n",
        "print('valid set counts : ',valid_df[\"label\"].value_counts())"
      ],
      "metadata": {
        "colab": {
          "base_uri": "https://localhost:8080/"
        },
        "id": "06wew6LLnnWH",
        "outputId": "4f50c3da-0fb7-4f5f-a2d3-4813f35fe9c6"
      },
      "execution_count": 11,
      "outputs": [
        {
          "output_type": "stream",
          "name": "stdout",
          "text": [
            "train set counts :  label\n",
            "1    80587\n",
            "0    79413\n",
            "Name: count, dtype: int64\n",
            "valid set counts :  label\n",
            "0    10204\n",
            "1     9796\n",
            "Name: count, dtype: int64\n"
          ]
        }
      ]
    },
    {
      "cell_type": "markdown",
      "source": [
        "# Dealing with Emojies in reviews\n",
        "* we chosed to review rows with emojies  "
      ],
      "metadata": {
        "id": "ARVO2hgvpmaS"
      }
    },
    {
      "cell_type": "code",
      "source": [
        "import pandas as pd\n",
        "\n",
        "# Using emoji unicode range to filter rows containing emojis (emojis encoding)\n",
        "emoji_range = r'[\\U0001F300-\\U0001F5FF\\U0001F600-\\U0001F64F\\U0001F680-\\U0001F6FF\\U0001F700-\\U0001F77F\\U0001F780-\\U0001F7FF\\U0001F800-\\U0001F8FF\\U0001F900-\\U0001F9FF\\U0001FA00-\\U0001FA6F\\U0001FA70-\\U0001FAFF\\U00002702-\\U000027B0\\U00002639\\U0000263A\\U00002648-\\U0000264B\\U00002650-\\U00002653\\U00002660\\U00002663\\U00002665\\U00002666\\U00002668\\U0000267B\\U0000267F\\U0000269B\\U0000269C]'\n",
        "\n",
        "# Select only the rows that contain emojies\n",
        "rows_with_emoji = train_df[train_df[\"review\"].str.contains(emoji_range, regex=True)]\n",
        "\n",
        "# Getting random row from the filtered DataFrame\n",
        "one_row_with_emoji = rows_with_emoji.sample(n=3)\n",
        "\n",
        "print(one_row_with_emoji)\n"
      ],
      "metadata": {
        "colab": {
          "base_uri": "https://localhost:8080/"
        },
        "id": "3mdTN24Qps2t",
        "outputId": "6199eafe-9be8-44ee-887e-6b0d620655fc"
      },
      "execution_count": 12,
      "outputs": [
        {
          "output_type": "stream",
          "name": "stdout",
          "text": [
            "                                                   review  label\n",
            "137377  Note d'amour pour ce film qui a bercé mon enfa...      1\n",
            "119527  Jadore Marie ❤❤❤❤❤❤❤❤❤❤❤❤❤❤❤❤❤❤❤❤je me rappell...      1\n",
            "30719   Ce film est génial ! En ce moment, je le regar...      1\n"
          ]
        }
      ]
    },
    {
      "cell_type": "markdown",
      "source": [
        "Checking the chars in our train df"
      ],
      "metadata": {
        "id": "3rHWhKV1t4e_"
      }
    },
    {
      "cell_type": "code",
      "source": [
        "import numpy as np\n",
        "\n",
        "def special_chars(df):\n",
        "  # Extract all non-alphabetic characters and store them in a set\n",
        "  non_alphab_chars = np.unique([char for review in df['review'] for char in review if not char.isalpha()])\n",
        "  print(non_alphab_chars)"
      ],
      "metadata": {
        "id": "s92QCcuIpMPM"
      },
      "execution_count": 13,
      "outputs": []
    },
    {
      "cell_type": "code",
      "source": [
        "from nltk.corpus import stopwords\n",
        "from numpy import array\n",
        "import nltk\n",
        "import re\n",
        "nltk.download('stopwords')"
      ],
      "metadata": {
        "colab": {
          "base_uri": "https://localhost:8080/"
        },
        "id": "cHI-FGyDOtDM",
        "outputId": "bb48ad28-9284-47b4-db2d-7ead31af9c29"
      },
      "execution_count": 14,
      "outputs": [
        {
          "output_type": "stream",
          "name": "stderr",
          "text": [
            "[nltk_data] Downloading package stopwords to /root/nltk_data...\n",
            "[nltk_data]   Package stopwords is already up-to-date!\n"
          ]
        },
        {
          "output_type": "execute_result",
          "data": {
            "text/plain": [
              "True"
            ]
          },
          "metadata": {},
          "execution_count": 14
        }
      ]
    },
    {
      "cell_type": "markdown",
      "source": [
        "Emojies Translation we are using this lib link for details [emoji](https://pypi.org/project/emoji/)"
      ],
      "metadata": {
        "id": "ZnawKlz2R0ve"
      }
    },
    {
      "cell_type": "code",
      "source": [
        "# !pip install -q emoji\n",
        "import emoji"
      ],
      "metadata": {
        "id": "gYPKOmwvR4Z8"
      },
      "execution_count": 15,
      "outputs": []
    },
    {
      "cell_type": "markdown",
      "source": [
        "# Chekcing the lib function on random row\n",
        "  Calling demojize function on review  "
      ],
      "metadata": {
        "id": "YD6m8ZorVYL-"
      }
    },
    {
      "cell_type": "code",
      "source": [
        "one_row_with_emoji['review'] = one_row_with_emoji['review'].apply(lambda x: ' '.join(emoji.demojize(x, language='fr').split()))\n",
        "one_row_with_emoji"
      ],
      "metadata": {
        "id": "AkzmKj62VbRS",
        "outputId": "8ded2cff-9604-4af9-9699-f90ff319fea8",
        "colab": {
          "base_uri": "https://localhost:8080/",
          "height": 143
        }
      },
      "execution_count": 16,
      "outputs": [
        {
          "output_type": "execute_result",
          "data": {
            "text/plain": [
              "                                                   review  label\n",
              "137377  Note d'amour pour ce film qui a bercé mon enfa...      1\n",
              "119527  Jadore Marie :cœur_rouge::cœur_rouge::cœur_rou...      1\n",
              "30719   Ce film est génial ! En ce moment, je le regar...      1"
            ],
            "text/html": [
              "\n",
              "  <div id=\"df-a877e740-ec2a-4542-8dbc-47a96edc95f9\" class=\"colab-df-container\">\n",
              "    <div>\n",
              "<style scoped>\n",
              "    .dataframe tbody tr th:only-of-type {\n",
              "        vertical-align: middle;\n",
              "    }\n",
              "\n",
              "    .dataframe tbody tr th {\n",
              "        vertical-align: top;\n",
              "    }\n",
              "\n",
              "    .dataframe thead th {\n",
              "        text-align: right;\n",
              "    }\n",
              "</style>\n",
              "<table border=\"1\" class=\"dataframe\">\n",
              "  <thead>\n",
              "    <tr style=\"text-align: right;\">\n",
              "      <th></th>\n",
              "      <th>review</th>\n",
              "      <th>label</th>\n",
              "    </tr>\n",
              "  </thead>\n",
              "  <tbody>\n",
              "    <tr>\n",
              "      <th>137377</th>\n",
              "      <td>Note d'amour pour ce film qui a bercé mon enfa...</td>\n",
              "      <td>1</td>\n",
              "    </tr>\n",
              "    <tr>\n",
              "      <th>119527</th>\n",
              "      <td>Jadore Marie :cœur_rouge::cœur_rouge::cœur_rou...</td>\n",
              "      <td>1</td>\n",
              "    </tr>\n",
              "    <tr>\n",
              "      <th>30719</th>\n",
              "      <td>Ce film est génial ! En ce moment, je le regar...</td>\n",
              "      <td>1</td>\n",
              "    </tr>\n",
              "  </tbody>\n",
              "</table>\n",
              "</div>\n",
              "    <div class=\"colab-df-buttons\">\n",
              "\n",
              "  <div class=\"colab-df-container\">\n",
              "    <button class=\"colab-df-convert\" onclick=\"convertToInteractive('df-a877e740-ec2a-4542-8dbc-47a96edc95f9')\"\n",
              "            title=\"Convert this dataframe to an interactive table.\"\n",
              "            style=\"display:none;\">\n",
              "\n",
              "  <svg xmlns=\"http://www.w3.org/2000/svg\" height=\"24px\" viewBox=\"0 -960 960 960\">\n",
              "    <path d=\"M120-120v-720h720v720H120Zm60-500h600v-160H180v160Zm220 220h160v-160H400v160Zm0 220h160v-160H400v160ZM180-400h160v-160H180v160Zm440 0h160v-160H620v160ZM180-180h160v-160H180v160Zm440 0h160v-160H620v160Z\"/>\n",
              "  </svg>\n",
              "    </button>\n",
              "\n",
              "  <style>\n",
              "    .colab-df-container {\n",
              "      display:flex;\n",
              "      gap: 12px;\n",
              "    }\n",
              "\n",
              "    .colab-df-convert {\n",
              "      background-color: #E8F0FE;\n",
              "      border: none;\n",
              "      border-radius: 50%;\n",
              "      cursor: pointer;\n",
              "      display: none;\n",
              "      fill: #1967D2;\n",
              "      height: 32px;\n",
              "      padding: 0 0 0 0;\n",
              "      width: 32px;\n",
              "    }\n",
              "\n",
              "    .colab-df-convert:hover {\n",
              "      background-color: #E2EBFA;\n",
              "      box-shadow: 0px 1px 2px rgba(60, 64, 67, 0.3), 0px 1px 3px 1px rgba(60, 64, 67, 0.15);\n",
              "      fill: #174EA6;\n",
              "    }\n",
              "\n",
              "    .colab-df-buttons div {\n",
              "      margin-bottom: 4px;\n",
              "    }\n",
              "\n",
              "    [theme=dark] .colab-df-convert {\n",
              "      background-color: #3B4455;\n",
              "      fill: #D2E3FC;\n",
              "    }\n",
              "\n",
              "    [theme=dark] .colab-df-convert:hover {\n",
              "      background-color: #434B5C;\n",
              "      box-shadow: 0px 1px 3px 1px rgba(0, 0, 0, 0.15);\n",
              "      filter: drop-shadow(0px 1px 2px rgba(0, 0, 0, 0.3));\n",
              "      fill: #FFFFFF;\n",
              "    }\n",
              "  </style>\n",
              "\n",
              "    <script>\n",
              "      const buttonEl =\n",
              "        document.querySelector('#df-a877e740-ec2a-4542-8dbc-47a96edc95f9 button.colab-df-convert');\n",
              "      buttonEl.style.display =\n",
              "        google.colab.kernel.accessAllowed ? 'block' : 'none';\n",
              "\n",
              "      async function convertToInteractive(key) {\n",
              "        const element = document.querySelector('#df-a877e740-ec2a-4542-8dbc-47a96edc95f9');\n",
              "        const dataTable =\n",
              "          await google.colab.kernel.invokeFunction('convertToInteractive',\n",
              "                                                    [key], {});\n",
              "        if (!dataTable) return;\n",
              "\n",
              "        const docLinkHtml = 'Like what you see? Visit the ' +\n",
              "          '<a target=\"_blank\" href=https://colab.research.google.com/notebooks/data_table.ipynb>data table notebook</a>'\n",
              "          + ' to learn more about interactive tables.';\n",
              "        element.innerHTML = '';\n",
              "        dataTable['output_type'] = 'display_data';\n",
              "        await google.colab.output.renderOutput(dataTable, element);\n",
              "        const docLink = document.createElement('div');\n",
              "        docLink.innerHTML = docLinkHtml;\n",
              "        element.appendChild(docLink);\n",
              "      }\n",
              "    </script>\n",
              "  </div>\n",
              "\n",
              "\n",
              "<div id=\"df-fd65470a-09f4-4a8a-acb4-5e32933d5014\">\n",
              "  <button class=\"colab-df-quickchart\" onclick=\"quickchart('df-fd65470a-09f4-4a8a-acb4-5e32933d5014')\"\n",
              "            title=\"Suggest charts\"\n",
              "            style=\"display:none;\">\n",
              "\n",
              "<svg xmlns=\"http://www.w3.org/2000/svg\" height=\"24px\"viewBox=\"0 0 24 24\"\n",
              "     width=\"24px\">\n",
              "    <g>\n",
              "        <path d=\"M19 3H5c-1.1 0-2 .9-2 2v14c0 1.1.9 2 2 2h14c1.1 0 2-.9 2-2V5c0-1.1-.9-2-2-2zM9 17H7v-7h2v7zm4 0h-2V7h2v10zm4 0h-2v-4h2v4z\"/>\n",
              "    </g>\n",
              "</svg>\n",
              "  </button>\n",
              "\n",
              "<style>\n",
              "  .colab-df-quickchart {\n",
              "      --bg-color: #E8F0FE;\n",
              "      --fill-color: #1967D2;\n",
              "      --hover-bg-color: #E2EBFA;\n",
              "      --hover-fill-color: #174EA6;\n",
              "      --disabled-fill-color: #AAA;\n",
              "      --disabled-bg-color: #DDD;\n",
              "  }\n",
              "\n",
              "  [theme=dark] .colab-df-quickchart {\n",
              "      --bg-color: #3B4455;\n",
              "      --fill-color: #D2E3FC;\n",
              "      --hover-bg-color: #434B5C;\n",
              "      --hover-fill-color: #FFFFFF;\n",
              "      --disabled-bg-color: #3B4455;\n",
              "      --disabled-fill-color: #666;\n",
              "  }\n",
              "\n",
              "  .colab-df-quickchart {\n",
              "    background-color: var(--bg-color);\n",
              "    border: none;\n",
              "    border-radius: 50%;\n",
              "    cursor: pointer;\n",
              "    display: none;\n",
              "    fill: var(--fill-color);\n",
              "    height: 32px;\n",
              "    padding: 0;\n",
              "    width: 32px;\n",
              "  }\n",
              "\n",
              "  .colab-df-quickchart:hover {\n",
              "    background-color: var(--hover-bg-color);\n",
              "    box-shadow: 0 1px 2px rgba(60, 64, 67, 0.3), 0 1px 3px 1px rgba(60, 64, 67, 0.15);\n",
              "    fill: var(--button-hover-fill-color);\n",
              "  }\n",
              "\n",
              "  .colab-df-quickchart-complete:disabled,\n",
              "  .colab-df-quickchart-complete:disabled:hover {\n",
              "    background-color: var(--disabled-bg-color);\n",
              "    fill: var(--disabled-fill-color);\n",
              "    box-shadow: none;\n",
              "  }\n",
              "\n",
              "  .colab-df-spinner {\n",
              "    border: 2px solid var(--fill-color);\n",
              "    border-color: transparent;\n",
              "    border-bottom-color: var(--fill-color);\n",
              "    animation:\n",
              "      spin 1s steps(1) infinite;\n",
              "  }\n",
              "\n",
              "  @keyframes spin {\n",
              "    0% {\n",
              "      border-color: transparent;\n",
              "      border-bottom-color: var(--fill-color);\n",
              "      border-left-color: var(--fill-color);\n",
              "    }\n",
              "    20% {\n",
              "      border-color: transparent;\n",
              "      border-left-color: var(--fill-color);\n",
              "      border-top-color: var(--fill-color);\n",
              "    }\n",
              "    30% {\n",
              "      border-color: transparent;\n",
              "      border-left-color: var(--fill-color);\n",
              "      border-top-color: var(--fill-color);\n",
              "      border-right-color: var(--fill-color);\n",
              "    }\n",
              "    40% {\n",
              "      border-color: transparent;\n",
              "      border-right-color: var(--fill-color);\n",
              "      border-top-color: var(--fill-color);\n",
              "    }\n",
              "    60% {\n",
              "      border-color: transparent;\n",
              "      border-right-color: var(--fill-color);\n",
              "    }\n",
              "    80% {\n",
              "      border-color: transparent;\n",
              "      border-right-color: var(--fill-color);\n",
              "      border-bottom-color: var(--fill-color);\n",
              "    }\n",
              "    90% {\n",
              "      border-color: transparent;\n",
              "      border-bottom-color: var(--fill-color);\n",
              "    }\n",
              "  }\n",
              "</style>\n",
              "\n",
              "  <script>\n",
              "    async function quickchart(key) {\n",
              "      const quickchartButtonEl =\n",
              "        document.querySelector('#' + key + ' button');\n",
              "      quickchartButtonEl.disabled = true;  // To prevent multiple clicks.\n",
              "      quickchartButtonEl.classList.add('colab-df-spinner');\n",
              "      try {\n",
              "        const charts = await google.colab.kernel.invokeFunction(\n",
              "            'suggestCharts', [key], {});\n",
              "      } catch (error) {\n",
              "        console.error('Error during call to suggestCharts:', error);\n",
              "      }\n",
              "      quickchartButtonEl.classList.remove('colab-df-spinner');\n",
              "      quickchartButtonEl.classList.add('colab-df-quickchart-complete');\n",
              "    }\n",
              "    (() => {\n",
              "      let quickchartButtonEl =\n",
              "        document.querySelector('#df-fd65470a-09f4-4a8a-acb4-5e32933d5014 button');\n",
              "      quickchartButtonEl.style.display =\n",
              "        google.colab.kernel.accessAllowed ? 'block' : 'none';\n",
              "    })();\n",
              "  </script>\n",
              "</div>\n",
              "\n",
              "  <div id=\"id_a0725505-09e4-4e8b-8d26-680e878cc9a8\">\n",
              "    <style>\n",
              "      .colab-df-generate {\n",
              "        background-color: #E8F0FE;\n",
              "        border: none;\n",
              "        border-radius: 50%;\n",
              "        cursor: pointer;\n",
              "        display: none;\n",
              "        fill: #1967D2;\n",
              "        height: 32px;\n",
              "        padding: 0 0 0 0;\n",
              "        width: 32px;\n",
              "      }\n",
              "\n",
              "      .colab-df-generate:hover {\n",
              "        background-color: #E2EBFA;\n",
              "        box-shadow: 0px 1px 2px rgba(60, 64, 67, 0.3), 0px 1px 3px 1px rgba(60, 64, 67, 0.15);\n",
              "        fill: #174EA6;\n",
              "      }\n",
              "\n",
              "      [theme=dark] .colab-df-generate {\n",
              "        background-color: #3B4455;\n",
              "        fill: #D2E3FC;\n",
              "      }\n",
              "\n",
              "      [theme=dark] .colab-df-generate:hover {\n",
              "        background-color: #434B5C;\n",
              "        box-shadow: 0px 1px 3px 1px rgba(0, 0, 0, 0.15);\n",
              "        filter: drop-shadow(0px 1px 2px rgba(0, 0, 0, 0.3));\n",
              "        fill: #FFFFFF;\n",
              "      }\n",
              "    </style>\n",
              "    <button class=\"colab-df-generate\" onclick=\"generateWithVariable('one_row_with_emoji')\"\n",
              "            title=\"Generate code using this dataframe.\"\n",
              "            style=\"display:none;\">\n",
              "\n",
              "  <svg xmlns=\"http://www.w3.org/2000/svg\" height=\"24px\"viewBox=\"0 0 24 24\"\n",
              "       width=\"24px\">\n",
              "    <path d=\"M7,19H8.4L18.45,9,17,7.55,7,17.6ZM5,21V16.75L18.45,3.32a2,2,0,0,1,2.83,0l1.4,1.43a1.91,1.91,0,0,1,.58,1.4,1.91,1.91,0,0,1-.58,1.4L9.25,21ZM18.45,9,17,7.55Zm-12,3A5.31,5.31,0,0,0,4.9,8.1,5.31,5.31,0,0,0,1,6.5,5.31,5.31,0,0,0,4.9,4.9,5.31,5.31,0,0,0,6.5,1,5.31,5.31,0,0,0,8.1,4.9,5.31,5.31,0,0,0,12,6.5,5.46,5.46,0,0,0,6.5,12Z\"/>\n",
              "  </svg>\n",
              "    </button>\n",
              "    <script>\n",
              "      (() => {\n",
              "      const buttonEl =\n",
              "        document.querySelector('#id_a0725505-09e4-4e8b-8d26-680e878cc9a8 button.colab-df-generate');\n",
              "      buttonEl.style.display =\n",
              "        google.colab.kernel.accessAllowed ? 'block' : 'none';\n",
              "\n",
              "      buttonEl.onclick = () => {\n",
              "        google.colab.notebook.generateWithVariable('one_row_with_emoji');\n",
              "      }\n",
              "      })();\n",
              "    </script>\n",
              "  </div>\n",
              "\n",
              "    </div>\n",
              "  </div>\n"
            ],
            "application/vnd.google.colaboratory.intrinsic+json": {
              "type": "dataframe",
              "variable_name": "one_row_with_emoji",
              "summary": "{\n  \"name\": \"one_row_with_emoji\",\n  \"rows\": 3,\n  \"fields\": [\n    {\n      \"column\": \"review\",\n      \"properties\": {\n        \"dtype\": \"string\",\n        \"num_unique_values\": 3,\n        \"samples\": [\n          \"Note d'amour pour ce film qui a berc\\u00e9 mon enfance. La VHS doit \\u00eatre bien us\\u00e9e !! Je crois d'ailleurs me souvenir que l'un des enfants \\u00e9tait doubl\\u00e9 par la m\\u00eame personne qui doublait Demi lune dans Indiana Jones :visage_riant_aux_larmes:\",\n          \"Jadore Marie :c\\u0153ur_rouge::c\\u0153ur_rouge::c\\u0153ur_rouge::c\\u0153ur_rouge::c\\u0153ur_rouge::c\\u0153ur_rouge::c\\u0153ur_rouge::c\\u0153ur_rouge::c\\u0153ur_rouge::c\\u0153ur_rouge::c\\u0153ur_rouge::c\\u0153ur_rouge::c\\u0153ur_rouge::c\\u0153ur_rouge::c\\u0153ur_rouge::c\\u0153ur_rouge::c\\u0153ur_rouge::c\\u0153ur_rouge::c\\u0153ur_rouge::c\\u0153ur_rouge:je me rappelle :c\\u0153ur_rouge::pouce_vers_le_haut::c\\u0153ur_rouge::pouce_vers_le_haut::pouce_vers_le_haut::pouce_vers_le_haut::pouce_vers_le_haut::pouce_vers_le_haut::pouce_vers_le_haut::pouce_vers_le_haut::pouce_vers_le_haut::pouce_vers_le_haut::pouce_vers_le_haut::pouce_vers_le_haut::pouce_vers_le_haut::pouce_vers_le_haut::c\\u0153ur_rouge::c\\u0153ur_rouge::c\\u0153ur_rouge::c\\u0153ur_rouge::pouce_vers_le_haut::pouce_vers_le_haut::pouce_vers_le_haut::pouce_vers_le_haut::c\\u0153ur_rouge::c\\u0153ur_rouge::c\\u0153ur_rouge::c\\u0153ur_rouge::visage_souriant_avec_c\\u0153urs::visage_souriant_avec_c\\u0153urs::visage_souriant_avec_c\\u0153urs::visage_souriant_avec_c\\u0153urs::visage_souriant_avec_c\\u0153urs:\",\n          \"Ce film est g\\u00e9nial ! En ce moment, je le regarde mais des dizaines de fois :) Cleaver :c\\u0153ur_cartes: Je l'adore, il me fais d\\u00e9lirer ! :c\\u0153ur_cartes::c\\u0153ur_cartes:\"\n        ],\n        \"semantic_type\": \"\",\n        \"description\": \"\"\n      }\n    },\n    {\n      \"column\": \"label\",\n      \"properties\": {\n        \"dtype\": \"number\",\n        \"std\": 0,\n        \"min\": 1,\n        \"max\": 1,\n        \"num_unique_values\": 1,\n        \"samples\": [\n          1\n        ],\n        \"semantic_type\": \"\",\n        \"description\": \"\"\n      }\n    }\n  ]\n}"
            }
          },
          "metadata": {},
          "execution_count": 16
        }
      ]
    },
    {
      "cell_type": "markdown",
      "source": [
        " * 7087   \"🎬🎥 LEPRECHAUN 4 _ [1996] 🎥🎬 _Appréciation \"\n",
        "\n",
        "is transformed to\n",
        "\n",
        "* 7087\t  \":clap::caméra: LEPRECHAUN 4 _ [1996] :caméra::...\t0 \""
      ],
      "metadata": {
        "id": "Iu9EyV7_VvOx"
      }
    },
    {
      "cell_type": "markdown",
      "source": [
        "# Applying the demojize function on all the rows in the train pd"
      ],
      "metadata": {
        "id": "-VE0BBH5XC2R"
      }
    },
    {
      "cell_type": "code",
      "source": [
        "# Apply emoji.demojize() to each row in the 'review' column\n",
        "train_df['review'] = train_df['review'].apply(lambda x: ' '.join(emoji.demojize(x, language='fr').split()))\n",
        "# train_df"
      ],
      "metadata": {
        "id": "lot_efRAS1_y"
      },
      "execution_count": 17,
      "outputs": []
    },
    {
      "cell_type": "code",
      "source": [
        "special_chars(train_df)"
      ],
      "metadata": {
        "id": "idooNxa_TC1L",
        "outputId": "e5bc25a7-28aa-44a4-e62f-4bf98d0af3a2",
        "colab": {
          "base_uri": "https://localhost:8080/"
        }
      },
      "execution_count": 18,
      "outputs": [
        {
          "output_type": "stream",
          "name": "stdout",
          "text": [
            "[' ' '!' '\"' '#' '$' '%' '&' \"'\" '(' ')' '*' '+' ',' '-' '.' '/' '0' '1'\n",
            " '2' '3' '4' '5' '6' '7' '8' '9' ':' ';' '<' '=' '>' '?' '@' '[' '\\\\' ']'\n",
            " '^' '_' '`' '{' '|' '}' '~' '\\x80' '\\x8c' '\\x91' '\\x93' '\\x94' '\\x96'\n",
            " '\\x97' '\\x9c' '¡' '£' '¤' '¥' '¦' '§' '¨' '«' '¬' '\\xad' '¯' '°' '±' '²'\n",
            " '³' '´' '·' '»' '½' '¾' '¿' '×' '̀' '́' '̈' '̧' '͜' '͡' '\\u200b' '\\u200e'\n",
            " '–' '—' '‘' '’' '‚' '“' '”' '•' '…' '\\u202a' '\\u202c' '′' '″' '€' '→' '∅'\n",
            " '∙' '►' '◄' '★' '☆' '♡' '♫' '《' '》' '【' '】' '\\ue045' '\\ue046' '\\uf04c'\n",
            " '\\uf0ab' '\\uf0e0' '\\uf8ff' '\\ufeff' '�']\n"
          ]
        }
      ]
    },
    {
      "cell_type": "markdown",
      "source": [
        "# Getting X_set and y_set from train_df, valid_df, test_df"
      ],
      "metadata": {
        "id": "qdXajdXzSo_P"
      }
    },
    {
      "cell_type": "code",
      "source": [
        "def get_y_X_sets(df_set):\n",
        "  y_train = train_df['label']\n",
        "  X_train = train_df.drop(['label'],axis = 1)\n",
        "  return X_train, y_train\n",
        "\n",
        "X_train, y_train = get_y_X_sets(train_df)\n",
        "X_valid, y_valid = get_y_X_sets(valid_df)\n",
        "X_test, y_test = get_y_X_sets(test_df)"
      ],
      "metadata": {
        "id": "nHvzJXy3SC6X"
      },
      "execution_count": 19,
      "outputs": []
    },
    {
      "cell_type": "markdown",
      "source": [
        "# Preprocessing method\n",
        "  * takes giving string (review) applies preprocessing operation using the regular expression matching Reuls  "
      ],
      "metadata": {
        "id": "d2w4C7SKXYo7"
      }
    },
    {
      "cell_type": "code",
      "source": [
        "def preprocess_text(sentence: str) -> str:\n",
        "\n",
        "    sentence = sentence.lower()\n",
        "\n",
        "    # Remove punctuations and numbers\n",
        "    sentence = re.sub('[^a-zA-Z]', ' ', sentence)\n",
        "\n",
        "    # Single character removal\n",
        "    # When we remove apostrophe from the word \"Mark's\", the apostrophe is replaced by an empty space. Hence, we are left with single character \"s\" that we are removing here.\n",
        "    sentence = re.sub(r\"\\s+[a-zA-Z]\\s+\", ' ', sentence)\n",
        "\n",
        "    # Remove multiple spaces\n",
        "    sentence = re.sub(r'\\s+', ' ', sentence)\n",
        "\n",
        "    # Remove Stopwords\n",
        "    pattern = re.compile(r'\\b(' + r'|'.join(stopwords.words('english')) + r')\\b\\s*')\n",
        "    sentence = pattern.sub('', sentence)\n",
        "\n",
        "    # Remove Sepecail chars\n",
        "    pattern = re.compile(r'\\b(' + r'|'.join(stopwords.words('english')) + r')\\b\\s*')\n",
        "    sentence = re.sub(r\"[^a-zA-Z\\s]\", ' ', sentence)\n",
        "\n",
        "    return sentence"
      ],
      "metadata": {
        "id": "oKblIpEoO_GN"
      },
      "execution_count": 20,
      "outputs": []
    },
    {
      "cell_type": "code",
      "source": [
        "X_train = X_train[\"review\"].apply(preprocess_text).tolist()\n",
        "X_valid = X_valid[\"review\"].apply(preprocess_text).tolist()\n",
        "X_test =  X_test[\"review\"].apply(preprocess_text).tolist()"
      ],
      "metadata": {
        "id": "FSfwu69NP_pg"
      },
      "execution_count": 21,
      "outputs": []
    },
    {
      "cell_type": "code",
      "source": [
        "X_train[0]"
      ],
      "metadata": {
        "colab": {
          "base_uri": "https://localhost:8080/",
          "height": 157
        },
        "id": "t6FiAbrQQKDh",
        "outputId": "752ed65a-b35c-46a6-bb91-c404527ee817"
      },
      "execution_count": 22,
      "outputs": [
        {
          "output_type": "execute_result",
          "data": {
            "text/plain": [
              "'si vous cherchez du cin abrutissant tous les tages ayant aucune peur du clich en castagnettes et moralement douteux paris love est fait pour vous toutes les productions besson via sa fili europacorp ont de quoi faire na tre la moquerie paris est encore une fois montr comme une capitale exotique mais attention si se dirige vers la banlieue trouve tout plein int gristes musulmans pr ts faire sauter le caisson une ambassadrice ricaine naus eux alors se dit qu va au moins pouvoir appr cier la connade un classique buddy movie avec le jeune agent aux dents longues oblig de faire quipe avec un vieux lou compl tement timbr mais un un jonathan rhys meyers fayot au possible et de autre un john travolta en total lire narcissico badass cr ne ras et bouc pro minent appui sinon il aucun sc nario seulement des poursuites biles sur autoroute travolta qui tale mecs arme blanche en mouvements ou laisse son associ se faire molir la tronche pendant qu il scrute la jumelle ca pourrait tre un plaisir coupable tellement est naurme est juste de la daube dans la droite lign un transporteur taken ou banlieue '"
            ],
            "application/vnd.google.colaboratory.intrinsic+json": {
              "type": "string"
            }
          },
          "metadata": {},
          "execution_count": 22
        }
      ]
    },
    {
      "cell_type": "markdown",
      "source": [
        "# Using keras tokenizer we tokenized our sets"
      ],
      "metadata": {
        "id": "xs1k3rI6XuUz"
      }
    },
    {
      "cell_type": "code",
      "source": [
        "from keras.preprocessing.text import Tokenizer\n",
        "\n",
        "# Method fit_on_text trains the tokenizer\n",
        "word_tokenizer = Tokenizer()\n",
        "word_tokenizer.fit_on_texts(X_train)\n",
        "word_tokenizer.fit_on_texts(X_valid)\n",
        "word_tokenizer.fit_on_texts(X_test)\n",
        "\n",
        "# Method texts_to_sequences converts sentences to their numeric form\n",
        "X_train = word_tokenizer.texts_to_sequences(X_train)\n",
        "X_test = word_tokenizer.texts_to_sequences(X_test)\n",
        "X_valid = word_tokenizer.texts_to_sequences(X_valid)"
      ],
      "metadata": {
        "id": "tRCu6Y5WQP58"
      },
      "execution_count": 23,
      "outputs": []
    },
    {
      "cell_type": "markdown",
      "source": [
        " # Check on the len of the reviews"
      ],
      "metadata": {
        "id": "8vz-aFeoXzS1"
      }
    },
    {
      "cell_type": "code",
      "source": [
        "from collections import Counter\n",
        "\n",
        "# outlier review stats\n",
        "review_length = Counter([len(x) for x in X_train])\n",
        "print(\"Zero-length reviews: {}\".format(review_length[0]))\n",
        "print(\"Maximum review length: {}\".format(max(review_length)))"
      ],
      "metadata": {
        "colab": {
          "base_uri": "https://localhost:8080/"
        },
        "id": "2tmDzXP8Q2X7",
        "outputId": "4ab48588-e00a-42a8-fc5e-e526f7427941"
      },
      "execution_count": 24,
      "outputs": [
        {
          "output_type": "stream",
          "name": "stdout",
          "text": [
            "Zero-length reviews: 11\n",
            "Maximum review length: 369\n"
          ]
        }
      ]
    },
    {
      "cell_type": "markdown",
      "source": [
        "# Adding padding to the small rows so that our reviews  have the same size"
      ],
      "metadata": {
        "id": "1nQQX2s4X3gx"
      }
    },
    {
      "cell_type": "code",
      "source": [
        "from tensorflow.keras.preprocessing.sequence import pad_sequences\n",
        "\n",
        "# Padding all reviews to fixed length 100\n",
        "maxlen = 400\n",
        "X_train = pad_sequences(X_train, padding='post', maxlen=maxlen)\n",
        "X_test = pad_sequences(X_test, padding='post', maxlen=maxlen)\n",
        "X_valid = pad_sequences(X_valid, padding='post', maxlen=maxlen)"
      ],
      "metadata": {
        "id": "ZIZsT7xvZUpj"
      },
      "execution_count": 25,
      "outputs": []
    },
    {
      "cell_type": "markdown",
      "source": [
        "# Encoding the labels"
      ],
      "metadata": {
        "id": "gs51K2APYF2W"
      }
    },
    {
      "cell_type": "code",
      "source": [
        "from sklearn.preprocessing import LabelEncoder\n",
        "\n",
        "# Converting sentiment labels to 0 & 1\n",
        "label = LabelEncoder()\n",
        "y_train = label.fit_transform(y_train)\n",
        "y_train = label.fit_transform(y_train)"
      ],
      "metadata": {
        "id": "rziHLfvuG1wL"
      },
      "execution_count": 26,
      "outputs": []
    },
    {
      "cell_type": "markdown",
      "source": [
        "# LSTM"
      ],
      "metadata": {
        "id": "gafVZTv3YSmj"
      }
    },
    {
      "cell_type": "code",
      "source": [
        "import numpy as np\n",
        "import tensorflow as tf\n",
        "from tensorflow.keras.models import Sequential\n",
        "from tensorflow.keras.layers import SimpleRNN,LSTM, Dense, Embedding, Dropout\n",
        "from tensorflow.keras.preprocessing.text import Tokenizer\n",
        "from tensorflow.keras.utils import to_categorical\n",
        "from sklearn.model_selection import train_test_split\n",
        "from tensorflow.keras.callbacks import EarlyStopping"
      ],
      "metadata": {
        "id": "ro97EB8rYfG6"
      },
      "execution_count": 27,
      "outputs": []
    },
    {
      "cell_type": "code",
      "source": [
        "# The length of tokenizer.word_index gives the number of unique words in the vocabulary.\n",
        "# We add 1 to account for the possibility of a padding token, which is commonly used in sequence models.\n",
        "\n",
        "vocab_length = len(word_tokenizer.word_index) + 1\n",
        "vocab_length"
      ],
      "metadata": {
        "colab": {
          "base_uri": "https://localhost:8080/"
        },
        "id": "5kkGCOJbY3CB",
        "outputId": "b6285cd5-b142-4efb-bace-a8a1b525778f"
      },
      "execution_count": 28,
      "outputs": [
        {
          "output_type": "execute_result",
          "data": {
            "text/plain": [
              "122713"
            ]
          },
          "metadata": {},
          "execution_count": 28
        }
      ]
    },
    {
      "cell_type": "code",
      "source": [
        "# Neural Network architecture\n",
        "lstm_model = Sequential()\n",
        "lstm_model.add(Embedding(input_dim = vocab_length, output_dim = 128, input_length=maxlen ))\n",
        "lstm_model.add(LSTM(units=128, return_sequences= False))\n",
        "lstm_model.add(Dense(1, activation='sigmoid'))"
      ],
      "metadata": {
        "id": "vAzn5LDfYUa6"
      },
      "execution_count": 29,
      "outputs": []
    },
    {
      "cell_type": "code",
      "source": [
        "# Compile the model\n",
        "lstm_model.compile(optimizer='adam', loss='categorical_crossentropy', metrics=['accuracy'])\n",
        "\n",
        "# Set up early stopping\n",
        "early_stop = EarlyStopping(monitor='val_loss', patience=10, restore_best_weights=True)\n",
        "\n",
        "# Train the model\n",
        "history = lstm_model.fit(X_train,y_train, validation_data=(X_valid,y_valid), epochs=25, batch_size=128, callbacks=[early_stop])\n",
        "\n",
        "# Evaluate the model\n",
        "loss, accuracy = lstm_model.evaluate(X_test, y_test)\n",
        "\n",
        "print(\"Test accuracy:\", accuracy)"
      ],
      "metadata": {
        "colab": {
          "base_uri": "https://localhost:8080/"
        },
        "id": "kmc-tEzibI3p",
        "outputId": "9f1c82e4-8919-42cc-c570-e5ca243ba6b1"
      },
      "execution_count": 30,
      "outputs": [
        {
          "output_type": "stream",
          "name": "stdout",
          "text": [
            "Epoch 1/25\n"
          ]
        },
        {
          "output_type": "stream",
          "name": "stderr",
          "text": [
            "/usr/local/lib/python3.10/dist-packages/tensorflow/python/util/dispatch.py:1260: SyntaxWarning: In loss categorical_crossentropy, expected y_pred.shape to be (batch_size, num_classes) with num_classes > 1. Received: y_pred.shape=(128, 1). Consider using 'binary_crossentropy' if you only have 2 classes.\n",
            "  return dispatch_target(*args, **kwargs)\n"
          ]
        },
        {
          "output_type": "stream",
          "name": "stdout",
          "text": [
            "1250/1250 [==============================] - 111s 87ms/step - loss: 0.0000e+00 - accuracy: 0.4963 - val_loss: 0.0000e+00 - val_accuracy: 0.4963\n",
            "Epoch 2/25\n",
            "1250/1250 [==============================] - 69s 55ms/step - loss: 0.0000e+00 - accuracy: 0.4963 - val_loss: 0.0000e+00 - val_accuracy: 0.4963\n",
            "Epoch 3/25\n",
            "1250/1250 [==============================] - 62s 49ms/step - loss: 0.0000e+00 - accuracy: 0.4963 - val_loss: 0.0000e+00 - val_accuracy: 0.4963\n",
            "Epoch 4/25\n",
            "1250/1250 [==============================] - 60s 48ms/step - loss: 0.0000e+00 - accuracy: 0.4963 - val_loss: 0.0000e+00 - val_accuracy: 0.4963\n",
            "Epoch 5/25\n",
            "1250/1250 [==============================] - 49s 39ms/step - loss: 0.0000e+00 - accuracy: 0.4963 - val_loss: 0.0000e+00 - val_accuracy: 0.4963\n",
            "Epoch 6/25\n",
            "1250/1250 [==============================] - 49s 39ms/step - loss: 0.0000e+00 - accuracy: 0.4963 - val_loss: 0.0000e+00 - val_accuracy: 0.4963\n",
            "Epoch 7/25\n",
            "1250/1250 [==============================] - 48s 38ms/step - loss: 0.0000e+00 - accuracy: 0.4963 - val_loss: 0.0000e+00 - val_accuracy: 0.4963\n",
            "Epoch 8/25\n",
            "1250/1250 [==============================] - 49s 39ms/step - loss: 0.0000e+00 - accuracy: 0.4963 - val_loss: 0.0000e+00 - val_accuracy: 0.4963\n",
            "Epoch 9/25\n",
            "1250/1250 [==============================] - 47s 38ms/step - loss: 0.0000e+00 - accuracy: 0.4963 - val_loss: 0.0000e+00 - val_accuracy: 0.4963\n",
            "Epoch 10/25\n",
            "1250/1250 [==============================] - 48s 38ms/step - loss: 0.0000e+00 - accuracy: 0.4963 - val_loss: 0.0000e+00 - val_accuracy: 0.4963\n",
            "Epoch 11/25\n",
            "1250/1250 [==============================] - 56s 45ms/step - loss: 0.0000e+00 - accuracy: 0.4963 - val_loss: 0.0000e+00 - val_accuracy: 0.4963\n",
            "   1/5000 [..............................] - ETA: 35:40 - loss: 0.0000e+00 - accuracy: 0.6250"
          ]
        },
        {
          "output_type": "stream",
          "name": "stderr",
          "text": [
            "/usr/local/lib/python3.10/dist-packages/tensorflow/python/util/dispatch.py:1260: SyntaxWarning: In loss categorical_crossentropy, expected y_pred.shape to be (batch_size, num_classes) with num_classes > 1. Received: y_pred.shape=(None, 1). Consider using 'binary_crossentropy' if you only have 2 classes.\n",
            "  return dispatch_target(*args, **kwargs)\n"
          ]
        },
        {
          "output_type": "stream",
          "name": "stdout",
          "text": [
            "5000/5000 [==============================] - 39s 8ms/step - loss: 0.0000e+00 - accuracy: 0.4963\n",
            "Test accuracy: 0.49633124470710754\n"
          ]
        }
      ]
    },
    {
      "cell_type": "code",
      "source": [
        "import matplotlib.pyplot as plt\n",
        "def model_performance(model_name, history, metric_name):\n",
        "    plt.plot(history.history[metric_name])\n",
        "    plt.plot(history.history['val_' + metric_name])\n",
        "    plt.xlabel('Epoch number')\n",
        "    plt.ylabel(metric_name)\n",
        "    plt.title('Comparing training and validation ' + metric_name + ' for ' + model_name)\n",
        "    plt.legend(['Train','validation'], loc='upper left')\n",
        "    plt.show()\n",
        "\n",
        "model_performance(\"lstm_model\", history, \"accuracy\")"
      ],
      "metadata": {
        "id": "EUzudgx0YUOg",
        "outputId": "7cf48173-fb16-4819-d308-8c8a60335872",
        "colab": {
          "base_uri": "https://localhost:8080/",
          "height": 487
        }
      },
      "execution_count": 31,
      "outputs": [
        {
          "output_type": "display_data",
          "data": {
            "text/plain": [
              "<Figure size 640x480 with 1 Axes>"
            ],
            "image/png": "[encoded data removed]"
          },
          "metadata": {}
        }
      ]
    },
    {
      "cell_type": "code",
      "source": [
        "model_performance(\"lstm_model\", history, \"loss\")"
      ],
      "metadata": {
        "id": "z7JoqxxhY2FF",
        "outputId": "886ffded-ad26-4c83-ecbd-f1ef740dd1c1",
        "colab": {
          "base_uri": "https://localhost:8080/",
          "height": 472
        }
      },
      "execution_count": 32,
      "outputs": [
        {
          "output_type": "display_data",
          "data": {
            "text/plain": [
              "<Figure size 640x480 with 1 Axes>"
            ],
            "image/png": "[encoded data removed]"
          },
          "metadata": {}
        }
      ]
    }
  ]
}